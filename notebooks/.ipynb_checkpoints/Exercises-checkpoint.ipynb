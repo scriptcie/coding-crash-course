{
 "cells": [
  {
   "cell_type": "markdown",
   "metadata": {},
   "source": [
    "# Exercises"
   ]
  },
  {
   "cell_type": "markdown",
   "metadata": {},
   "source": [
    "## Sum of integers\n",
    "\n",
    "Compute the sum \n",
    "\n",
    "$$\n",
    "\\sum_{i = 0}^N i\n",
    "$$"
   ]
  },
  {
   "cell_type": "code",
   "execution_count": 2,
   "metadata": {},
   "outputs": [],
   "source": [
    "def sum_0_to_n(n):\n",
    "    result = 0\n",
    "    for i in range(0, n + 1):\n",
    "        result += i\n",
    "\n",
    "    return result"
   ]
  },
  {
   "cell_type": "code",
   "execution_count": 4,
   "metadata": {},
   "outputs": [],
   "source": [
    "def sum_0_to_n(n):\n",
    "    sum(range(0, n + 1))"
   ]
  },
  {
   "cell_type": "code",
   "execution_count": 5,
   "metadata": {},
   "outputs": [],
   "source": [
    "def sum_0_to_n(n):\n",
    "    return (n * (n + 1)) / 2"
   ]
  },
  {
   "cell_type": "markdown",
   "metadata": {},
   "source": [
    "# Klaverjas"
   ]
  },
  {
   "cell_type": "markdown",
   "metadata": {},
   "source": [
    "## Points of a trick"
   ]
  },
  {
   "cell_type": "code",
   "execution_count": 10,
   "metadata": {},
   "outputs": [
    {
     "data": {
      "text/plain": [
       "21"
      ]
     },
     "execution_count": 10,
     "metadata": {},
     "output_type": "execute_result"
    }
   ],
   "source": [
    "def pointsOfCard(card, isTrump = False):\n",
    "    rankToPoints = {\"A\": 11, \"10\": 10, \"K\": 4, \"Q\": 3, \"J\": 2, \"9\": 0, \"8\": 0, \"7\": 0}\n",
    "    \n",
    "    rank = card[0:-1]\n",
    "    suit = card[-1]\n",
    "    \n",
    "    points = rankToPoints[rank]\n",
    "    \n",
    "    return points\n",
    "\n",
    "def pointsOfTrick(trick, trump = None):\n",
    "    cards = trick.split(\" \")\n",
    "    \n",
    "    return sum([pointsOfCard(card) for card in cards])\n",
    "\n",
    "\n",
    "trick =  \"AH 7H 10H 9H\" # => \"AH 7H 10H 9H\"\n",
    "pointsOfTrick(trick) # => 21"
   ]
  },
  {
   "cell_type": "markdown",
   "metadata": {},
   "source": [
    "## Points of a trick including trump"
   ]
  },
  {
   "cell_type": "code",
   "execution_count": 13,
   "metadata": {},
   "outputs": [
    {
     "data": {
      "text/plain": [
       "21"
      ]
     },
     "execution_count": 13,
     "metadata": {},
     "output_type": "execute_result"
    }
   ],
   "source": [
    "# TODO: modify these functions!\n",
    "\n",
    "def pointsOfCard(card, isTrump = False):\n",
    "    rankToPoints = {\"A\": 11, \"10\": 10, \"K\": 4, \"Q\": 3, \"J\": 2, \"9\": 0, \"8\": 0, \"7\": 0}\n",
    "    \n",
    "    rank = card[0:-1]\n",
    "    suit = card[-1]\n",
    "    \n",
    "    points = rankToPoints[rank]\n",
    "    \n",
    "    return points\n",
    "\n",
    "def pointsOfTrick(trick, trump = None):\n",
    "    cards = trick.split(\" \")\n",
    "    \n",
    "    return sum([pointsOfCard(card) for card in cards])\n",
    "\n",
    "\n",
    "trick =  \"AH 7H 10H 9H\" # => \"AH 7H 10H 9H\"\n",
    "pointsOfTrick(trick) # => 21"
   ]
  },
  {
   "cell_type": "markdown",
   "metadata": {},
   "source": [
    "## Exercise 2\n",
    "\n",
    "### Counting points earned by a trick with trump\n"
   ]
  },
  {
   "cell_type": "code",
   "execution_count": null,
   "metadata": {},
   "outputs": [],
   "source": []
  },
  {
   "cell_type": "markdown",
   "metadata": {},
   "source": [
    "## Exercise 3\n",
    "\n",
    "### Counting points earned by a trick with honor"
   ]
  },
  {
   "cell_type": "code",
   "execution_count": null,
   "metadata": {},
   "outputs": [],
   "source": []
  },
  {
   "cell_type": "markdown",
   "metadata": {},
   "source": [
    "## Exercise 4\n",
    "\n",
    "### Determine the winner of a trick\n"
   ]
  },
  {
   "cell_type": "code",
   "execution_count": null,
   "metadata": {},
   "outputs": [],
   "source": []
  },
  {
   "cell_type": "markdown",
   "metadata": {},
   "source": [
    "## Exercise 5\n",
    "\n",
    "### Determine the points earned by a team"
   ]
  },
  {
   "cell_type": "code",
   "execution_count": null,
   "metadata": {},
   "outputs": [],
   "source": []
  },
  {
   "cell_type": "markdown",
   "metadata": {},
   "source": [
    "## Exercise 6\n",
    "\n",
    "Determine the odds of receiving a sorted hand when a pack of klaverjas cards has been dealt."
   ]
  },
  {
   "cell_type": "code",
   "execution_count": null,
   "metadata": {},
   "outputs": [],
   "source": []
  },
  {
   "cell_type": "markdown",
   "metadata": {},
   "source": [
    "## Exercise 7\n",
    "\n",
    "When playing SANS, determine the odds that someone will \"verzaak\" when playing random cards\n"
   ]
  },
  {
   "cell_type": "code",
   "execution_count": null,
   "metadata": {},
   "outputs": [],
   "source": []
  },
  {
   "cell_type": "markdown",
   "metadata": {},
   "source": [
    "## Exercise 8\n",
    "\n",
    "Determine if a player has \"Verzaakt\"\n"
   ]
  },
  {
   "cell_type": "code",
   "execution_count": null,
   "metadata": {},
   "outputs": [],
   "source": []
  }
 ],
 "metadata": {
  "kernelspec": {
   "display_name": "Python 3",
   "language": "python",
   "name": "python3"
  },
  "language_info": {
   "codemirror_mode": {
    "name": "ipython",
    "version": 3
   },
   "file_extension": ".py",
   "mimetype": "text/x-python",
   "name": "python",
   "nbconvert_exporter": "python",
   "pygments_lexer": "ipython3",
   "version": "3.8.2"
  }
 },
 "nbformat": 4,
 "nbformat_minor": 4
}
