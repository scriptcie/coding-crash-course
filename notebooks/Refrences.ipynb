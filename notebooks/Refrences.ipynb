{
 "cells": [
  {
   "cell_type": "markdown",
   "metadata": {},
   "source": [
    "# Coding crash course"
   ]
  },
  {
   "cell_type": "code",
   "execution_count": 1,
   "metadata": {},
   "outputs": [
    {
     "name": "stdout",
     "output_type": "stream",
     "text": [
      "Hello world\n"
     ]
    }
   ],
   "source": [
    "print(\"Hello world\")"
   ]
  },
  {
   "cell_type": "markdown",
   "metadata": {},
   "source": [
    "## Integers"
   ]
  },
  {
   "cell_type": "code",
   "execution_count": 6,
   "metadata": {},
   "outputs": [],
   "source": [
    "negative_integer = -3\n",
    "a_nice_positive_integer = 33\n",
    "\n",
    "x = a_nice_positive_integer - negative_integer # => 36\n",
    "\n",
    "# Taking powers can be done with **\n",
    "six = x**0.5 # => 6\n",
    "\n",
    "from math import sqrt\n",
    "six = sqrt(x) # => 6\n",
    "\n",
    "# Modulo arithmetic\n",
    "four = 16 % 12 # => 4\n",
    "\n",
    "# Integer division using //\n",
    "x = 5 // 3 # => 1"
   ]
  },
  {
   "cell_type": "markdown",
   "metadata": {},
   "source": [
    "## Floats"
   ]
  },
  {
   "cell_type": "code",
   "execution_count": 7,
   "metadata": {},
   "outputs": [
    {
     "data": {
      "text/plain": [
       "6.0"
      ]
     },
     "execution_count": 7,
     "metadata": {},
     "output_type": "execute_result"
    }
   ],
   "source": [
    "x = -2.0\n",
    "golden_ratio = 1.6180\n",
    "\n",
    "from math import pi\n",
    "\n",
    "# Division\n",
    "y = golden_ratio / pi"
   ]
  },
  {
   "cell_type": "markdown",
   "metadata": {},
   "source": [
    "## Booleans"
   ]
  },
  {
   "cell_type": "code",
   "execution_count": 15,
   "metadata": {},
   "outputs": [
    {
     "ename": "SyntaxError",
     "evalue": "cannot assign to literal (<ipython-input-15-c216e80d61ea>, line 14)",
     "output_type": "error",
     "traceback": [
      "\u001b[0;36m  File \u001b[0;32m\"<ipython-input-15-c216e80d61ea>\"\u001b[0;36m, line \u001b[0;32m14\u001b[0m\n\u001b[0;31m    33 = 28 # => SyntaxError: cannot assign to literal\u001b[0m\n\u001b[0m    ^\u001b[0m\n\u001b[0;31mSyntaxError\u001b[0m\u001b[0;31m:\u001b[0m cannot assign to literal\n"
     ]
    }
   ],
   "source": [
    "sjaars_is_reel = False\n",
    "julia_is_better_than_python = True\n",
    "python_is_better_than_julia = not True\n",
    "\n",
    "sjaars_is_reel and julia_is_better_than_python # => False\n",
    "sjaars_is_reel or julia_is_better_than_python # => True\n",
    "\n",
    "28 < 33 # True\n",
    "\n",
    "# Comparing two numbers using ==\n",
    "33 == 28 # False\n",
    "\n",
    "# Asigning a number to another number gives an error\n",
    "33 = 28 # => SyntaxError: cannot assign to literal\n",
    "\n",
    "# Variables can be assigned, so be careful when comparing two values\n",
    "a = 33\n",
    "b = 28\n",
    "a = b\n",
    "a == b # => True"
   ]
  },
  {
   "cell_type": "markdown",
   "metadata": {},
   "source": [
    "## Strings"
   ]
  },
  {
   "cell_type": "code",
   "execution_count": 17,
   "metadata": {},
   "outputs": [],
   "source": [
    "jack_of_hearts = \"JH\"\n",
    "nine_of_hearts = \"9H\"\n",
    "ten_of_hearts = \"9H\"\n",
    "ten_of_spades = \"10S\"\n",
    "\n",
    "# Getting a character from a string (counting starts from 0)\n",
    "jack = jack_of_hearts[0] #=> \"J\"\n",
    "hearts = jack_of_hearts[1] # => \"H\"\n",
    "\n",
    "# Check if two \"cards\" are of the same suit\n",
    "same_suit = jack_of_hearts[1] == ten_of_hearts[1] # => True\n",
    "\n",
    "# Get the length of a string\n",
    "len(jack_of_hearts) # => 2\n",
    "\n",
    "# Concatenate two strings\n",
    "hand = jack_of_hearts + \" \" + nine_of_hearts + \" \" + ten_of_hearts + \" \" + ten_of_spades\n",
    "\n",
    "# Or use string interpolation\n",
    "hand2 = f\"{jack_of_hearts} {nine_of_hearts} {ten_of_hearts} {ten_of_spades}\"\n"
   ]
  },
  {
   "cell_type": "markdown",
   "metadata": {},
   "source": [
    "## Lists"
   ]
  },
  {
   "cell_type": "code",
   "execution_count": 23,
   "metadata": {},
   "outputs": [
    {
     "data": {
      "text/plain": [
       "False"
      ]
     },
     "execution_count": 23,
     "metadata": {},
     "output_type": "execute_result"
    }
   ],
   "source": [
    "cards = [\"JH\", \"9H\", \"8H\", \"7H\"]\n",
    "cards[0] # => \"JH\"\n",
    "cards[1] # => \"9H\"\n",
    "cards[2] # => \"8H\"\n",
    "cards[3] # => \"7H\"\n",
    "cards[-1] # => \"7H\"\n",
    "cards[-2] # => \"8H\"\n",
    "\n",
    "# Get a list from a list\n",
    "cards[0:2] # => [\"JH\", \"9H\"]\n",
    "cards[:2] # => [\"JH\", \"9H\"]\n",
    "cards[2:] # => [\"8H\", \"7H\"]\n",
    "cards[::-1] # => [\"7H\", \"8H\", \"9H\", \"JH\"]\n",
    "\n",
    "cards.index(\"8H\") # => 2\n",
    "\"JH\" in cards # => True\n",
    "\"JS\" in cards # => False"
   ]
  },
  {
   "cell_type": "markdown",
   "metadata": {},
   "source": [
    "## Mutating lists"
   ]
  },
  {
   "cell_type": "code",
   "execution_count": 24,
   "metadata": {},
   "outputs": [
    {
     "data": {
      "text/plain": [
       "['JH', '9H', '8H', '10H']"
      ]
     },
     "execution_count": 24,
     "metadata": {},
     "output_type": "execute_result"
    }
   ],
   "source": [
    "# Adding and removing items from a list\n",
    "cards.append(\"AH\")\n",
    "cards # => [\"JH\", \"9H\", \"8H\", \"7H\", \"AH\"]\n",
    "last_card_added = cards.pop() # => \"AH\"\n",
    "cards # => [\"JH\", \"9H\", \"8H\", \"7H\"]\n",
    "cards.remove(\"8H\")\n",
    "cards # => [\"JH\", \"9H\", \"7H\"]\n",
    "cards.insert(2, \"8H\")\n",
    "cards # => [\"JH\", \"9H\", \"8H\", \"7H\"]\n",
    "cards[3] = \"10H\"\n",
    "cards # => [\"JH\", \"9H\", \"8H\", \"10H\"]"
   ]
  },
  {
   "cell_type": "markdown",
   "metadata": {},
   "source": [
    "## Strings look like lists"
   ]
  },
  {
   "cell_type": "code",
   "execution_count": 25,
   "metadata": {},
   "outputs": [
    {
     "data": {
      "text/plain": [
       "'JS 9S 8S 7S'"
      ]
     },
     "execution_count": 25,
     "metadata": {},
     "output_type": "execute_result"
    }
   ],
   "source": [
    "cards = \"JH 9H 8H 7H\"\n",
    "cards[0:2] # => \"JH\"\n",
    "\n",
    "cards.split(\" \") # => [\"JH\", \"9H\", \"8H\", \"7H\"]\n",
    "\" \".join([\"JH\", \"9H\", \"8H\", \"7H\"]) # => \"JH 9H 8H 7H\"\n",
    "cards.replace(\"H\", \"S\") # => \"JS 9S 8S 7S\""
   ]
  },
  {
   "cell_type": "markdown",
   "metadata": {},
   "source": [
    "## Sets"
   ]
  },
  {
   "cell_type": "code",
   "execution_count": 26,
   "metadata": {},
   "outputs": [],
   "source": [
    "# x is a list\n",
    "x = [0, 1, 2, 0, 0, 1, 2, 2]\n",
    "\n",
    "# y is a list\n",
    "y = {0, 1, 2, 0, 0, 1, 2, 2} # => {0, 1, 2}"
   ]
  },
  {
   "cell_type": "markdown",
   "metadata": {},
   "source": [
    "## Dictionaries"
   ]
  },
  {
   "cell_type": "code",
   "execution_count": 27,
   "metadata": {},
   "outputs": [],
   "source": [
    "player_hands = {\n",
    "    \"player_1\": [\"9J\"],\n",
    "    \"player_2\": [\"9J\"],\n",
    "    \"player_3\": [\"9J\"],\n",
    "    \"player_4\": [\"9J\"],\n",
    "}\n"
   ]
  },
  {
   "cell_type": "markdown",
   "metadata": {},
   "source": [
    "## Importing libraries"
   ]
  },
  {
   "cell_type": "code",
   "execution_count": 29,
   "metadata": {},
   "outputs": [],
   "source": [
    "from math import pi \n",
    "\n",
    "# Now pi is accessible\n",
    "x = pi**2\n",
    "\n",
    "# Import a library\n",
    "import math\n",
    "\n",
    "r = 1.0\n",
    "theta = 33.0\n",
    "x = math.cos(theta) * r\n",
    "y = math.sin(theta) * r\n",
    "\n",
    "# Or import all\n",
    "from math import *\n",
    "x2 = cos(theta) * r\n",
    "y2 = sin(theta) * r"
   ]
  }
 ],
 "metadata": {
  "kernelspec": {
   "display_name": "Python 3",
   "language": "python",
   "name": "python3"
  },
  "language_info": {
   "codemirror_mode": {
    "name": "ipython",
    "version": 3
   },
   "file_extension": ".py",
   "mimetype": "text/x-python",
   "name": "python",
   "nbconvert_exporter": "python",
   "pygments_lexer": "ipython3",
   "version": "3.8.2"
  }
 },
 "nbformat": 4,
 "nbformat_minor": 4
}
